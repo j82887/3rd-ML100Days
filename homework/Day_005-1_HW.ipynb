{
 "cells": [
  {
   "cell_type": "markdown",
   "metadata": {},
   "source": [
    "# [作業目標]\n",
    "- 利用範例的創建方式, 創建一組資料, 並練習如何取出最大值"
   ]
  },
  {
   "cell_type": "markdown",
   "metadata": {},
   "source": [
    "# [作業重點]\n",
    "- 練習創立 DataFrame (In[2])\n",
    "- 如何取出口數最多的國家 (In[3], Out[3])"
   ]
  },
  {
   "cell_type": "markdown",
   "metadata": {},
   "source": [
    "## 練習時間\n",
    "在小量的資料上，我們用眼睛就可以看得出來程式碼是否有跑出我們理想中的結果\n",
    "\n",
    "請嘗試想像一個你需要的資料結構 (裡面的值可以是隨機的)，然後用上述的方法把它變成 pandas DataFrame\n",
    "\n",
    "#### Ex: 想像一個 dataframe 有兩個欄位，一個是國家，一個是人口，求人口數最多的國家\n",
    "\n",
    "### Hints: [隨機產生數值](https://blog.csdn.net/christianashannon/article/details/78867204)"
   ]
  },
  {
   "cell_type": "code",
   "execution_count": 1,
   "metadata": {
    "collapsed": true
   },
   "outputs": [],
   "source": [
    "import pandas as pd\n",
    "import numpy as np\n",
    "import random"
   ]
  },
  {
   "cell_type": "code",
   "execution_count": 2,
   "metadata": {},
   "outputs": [
    {
     "name": "stdout",
     "output_type": "stream",
     "text": [
      "[408, 185, 632, 794]\n"
     ]
    },
    {
     "data": {
      "text/html": [
       "<div>\n",
       "<style>\n",
       "    .dataframe thead tr:only-child th {\n",
       "        text-align: right;\n",
       "    }\n",
       "\n",
       "    .dataframe thead th {\n",
       "        text-align: left;\n",
       "    }\n",
       "\n",
       "    .dataframe tbody tr th {\n",
       "        vertical-align: top;\n",
       "    }\n",
       "</style>\n",
       "<table border=\"1\" class=\"dataframe\">\n",
       "  <thead>\n",
       "    <tr style=\"text-align: right;\">\n",
       "      <th></th>\n",
       "      <th>人口</th>\n",
       "      <th>國家</th>\n",
       "    </tr>\n",
       "  </thead>\n",
       "  <tbody>\n",
       "    <tr>\n",
       "      <th>0</th>\n",
       "      <td>408</td>\n",
       "      <td>Taiwan</td>\n",
       "    </tr>\n",
       "    <tr>\n",
       "      <th>1</th>\n",
       "      <td>185</td>\n",
       "      <td>Japan</td>\n",
       "    </tr>\n",
       "    <tr>\n",
       "      <th>2</th>\n",
       "      <td>632</td>\n",
       "      <td>Hong Kong</td>\n",
       "    </tr>\n",
       "    <tr>\n",
       "      <th>3</th>\n",
       "      <td>794</td>\n",
       "      <td>China</td>\n",
       "    </tr>\n",
       "  </tbody>\n",
       "</table>\n",
       "</div>"
      ],
      "text/plain": [
       "    人口         國家\n",
       "0  408     Taiwan\n",
       "1  185      Japan\n",
       "2  632  Hong Kong\n",
       "3  794      China"
      ]
     },
     "execution_count": 2,
     "metadata": {},
     "output_type": "execute_result"
    }
   ],
   "source": [
    "country = ['Taiwan', 'Japan', 'Hong Kong', 'China']\n",
    "\n",
    "#返回括弧內之間的整數(100至1000)\n",
    "population = []\n",
    "for i in range(len(country)):\n",
    "    population.append(random.randint(100, 1000))\n",
    "print(population)\n",
    "\n",
    "data = {'國家':country,\n",
    "        '人口':population}\n",
    "\n",
    "data = pd.DataFrame(data)\n",
    "data"
   ]
  },
  {
   "cell_type": "code",
   "execution_count": 3,
   "metadata": {},
   "outputs": [
    {
     "name": "stdout",
     "output_type": "stream",
     "text": [
      "查看型別： float64\n",
      "[ 499.  634.  412.  170.]\n",
      "查看型別： int32\n",
      "[499 634 412 170]\n"
     ]
    },
    {
     "data": {
      "text/html": [
       "<div>\n",
       "<style>\n",
       "    .dataframe thead tr:only-child th {\n",
       "        text-align: right;\n",
       "    }\n",
       "\n",
       "    .dataframe thead th {\n",
       "        text-align: left;\n",
       "    }\n",
       "\n",
       "    .dataframe tbody tr th {\n",
       "        vertical-align: top;\n",
       "    }\n",
       "</style>\n",
       "<table border=\"1\" class=\"dataframe\">\n",
       "  <thead>\n",
       "    <tr style=\"text-align: right;\">\n",
       "      <th></th>\n",
       "      <th>人口</th>\n",
       "      <th>國家</th>\n",
       "    </tr>\n",
       "  </thead>\n",
       "  <tbody>\n",
       "    <tr>\n",
       "      <th>0</th>\n",
       "      <td>499</td>\n",
       "      <td>Taiwan</td>\n",
       "    </tr>\n",
       "    <tr>\n",
       "      <th>1</th>\n",
       "      <td>634</td>\n",
       "      <td>Japan</td>\n",
       "    </tr>\n",
       "    <tr>\n",
       "      <th>2</th>\n",
       "      <td>412</td>\n",
       "      <td>Hong Kong</td>\n",
       "    </tr>\n",
       "    <tr>\n",
       "      <th>3</th>\n",
       "      <td>170</td>\n",
       "      <td>China</td>\n",
       "    </tr>\n",
       "  </tbody>\n",
       "</table>\n",
       "</div>"
      ],
      "text/plain": [
       "    人口         國家\n",
       "0  499     Taiwan\n",
       "1  634      Japan\n",
       "2  412  Hong Kong\n",
       "3  170      China"
      ]
     },
     "execution_count": 3,
     "metadata": {},
     "output_type": "execute_result"
    }
   ],
   "source": [
    "country = ['Taiwan', 'Japan', 'Hong Kong', 'China']\n",
    "\n",
    "#返回隨機亂數(0至1)*100，再四捨五入 \n",
    "population = np.rint(1000*np.random.rand(len(country))) #類型依然為浮點數\n",
    "print(\"查看型別：\", population.dtype)\n",
    "print(population)\n",
    "\n",
    "population = population.astype(np.int) #浮點數轉為整數\n",
    "print(\"查看型別：\", population.dtype)\n",
    "print(population)\n",
    "\n",
    "data = {'國家':country,\n",
    "        '人口':population}\n",
    "\n",
    "data = pd.DataFrame(data)\n",
    "data"
   ]
  },
  {
   "cell_type": "code",
   "execution_count": 4,
   "metadata": {},
   "outputs": [
    {
     "name": "stdout",
     "output_type": "stream",
     "text": [
      "最大值：\n",
      "人口       634\n",
      "國家    Taiwan\n",
      "dtype: object\n",
      "\n",
      "最小值：\n",
      "人口      170\n",
      "國家    China\n",
      "dtype: object\n",
      "\n",
      "最大值： 634\n",
      "最小值： 170\n"
     ]
    }
   ],
   "source": [
    "#回傳每欄的最大/小值\n",
    "#(國家因為是Taiwan是T抬頭，為這些過家中按英文字母排序最後的，所以最大；反之，最小為China)\n",
    "\n",
    "print(\"最大值：\")\n",
    "print(data.max()) \n",
    "\n",
    "print(\"\\n最小值：\")\n",
    "print(data.min())\n",
    " \n",
    "#針對某欄回傳最大/小值\n",
    "print(\"\\n最大值：\", data['人口'].max()) \n",
    "print(\"最小值：\", data['人口'].min()) "
   ]
  },
  {
   "cell_type": "markdown",
   "metadata": {},
   "source": [
    "### 資料轉成陣列處理"
   ]
  },
  {
   "cell_type": "code",
   "execution_count": 5,
   "metadata": {},
   "outputs": [
    {
     "name": "stdout",
     "output_type": "stream",
     "text": [
      "人口的最大值: 634\n",
      "人口的最大值之index: (array([1], dtype=int64), array([0], dtype=int64))\n",
      "最多人口的國家: ['Japan']\n"
     ]
    }
   ],
   "source": [
    "data_array = data.as_matrix()\n",
    "\n",
    "#切片方法取陣列第1欄，即0\n",
    "population = data_array[:,0]\n",
    "population_max = np.max(population)\n",
    "\n",
    "#切片方法取陣列第2欄，即1\n",
    "country = data_array[:,1]\n",
    "\n",
    "#在陣列中尋找population_max的index\n",
    "population_max_index = np.where(data_array == population_max)\n",
    "\n",
    "print(\"人口的最大值:\", population_max)\n",
    "print(\"人口的最大值之index:\",population_max_index) \n",
    "print(\"最多人口的國家:\", country[population_max_index[0]])"
   ]
  },
  {
   "cell_type": "markdown",
   "metadata": {},
   "source": [
    "### 資料轉成列表處理"
   ]
  },
  {
   "cell_type": "code",
   "execution_count": 6,
   "metadata": {},
   "outputs": [
    {
     "name": "stdout",
     "output_type": "stream",
     "text": [
      "人口的最大值: 634\n",
      "人口的最大值之index: 1\n",
      "最多人口的國家: Japan\n"
     ]
    }
   ],
   "source": [
    "#取第1欄人口存為列表\n",
    "population = list(data['人口'])\n",
    "\n",
    "#取第2欄國家存為列表\n",
    "country = list(data['國家'])\n",
    "\n",
    "#在列表中尋找population_max的index\n",
    "population_max_index = population.index(max(population))\n",
    "\n",
    "print(\"人口的最大值:\", population_max)\n",
    "print(\"人口的最大值之index:\",population_max_index) \n",
    "print(\"最多人口的國家:\", country[population_max_index])"
   ]
  }
 ],
 "metadata": {
  "kernelspec": {
   "display_name": "Python 3",
   "language": "python",
   "name": "python3"
  },
  "language_info": {
   "codemirror_mode": {
    "name": "ipython",
    "version": 3
   },
   "file_extension": ".py",
   "mimetype": "text/x-python",
   "name": "python",
   "nbconvert_exporter": "python",
   "pygments_lexer": "ipython3",
   "version": "3.5.4"
  }
 },
 "nbformat": 4,
 "nbformat_minor": 2
}

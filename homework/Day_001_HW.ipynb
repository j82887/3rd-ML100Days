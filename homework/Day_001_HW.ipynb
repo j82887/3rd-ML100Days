{
 "cells": [
  {
   "cell_type": "markdown",
   "metadata": {},
   "source": [
    "## 練習時間\n",
    "#### 請寫一個函式用來計算 Mean Square Error\n",
    "$ MSE = \\frac{1}{n}\\sum_{i=1}^{n}{(Y_i - \\hat{Y}_i)^2} $\n",
    "\n",
    "### Hint: [如何取平方](https://googoodesign.gitbooks.io/-ezpython/unit-1.html)"
   ]
  },
  {
   "cell_type": "markdown",
   "metadata": {},
   "source": [
    "# [作業目標]\n",
    "- 仿造範例的MAE函數, 自己寫一個MSE函數(參考上面公式)"
   ]
  },
  {
   "cell_type": "markdown",
   "metadata": {},
   "source": [
    "# [作業重點]\n",
    "- 注意程式的縮排\n",
    "- 是否能將數學公式, 轉換為 Python 的函式組合? (In[2], Out[2])"
   ]
  },
  {
   "cell_type": "code",
   "execution_count": 1,
   "metadata": {
    "collapsed": true
   },
   "outputs": [],
   "source": [
    "# 載入基礎套件與代稱\n",
    "import numpy as np\n",
    "import matplotlib.pyplot as plt"
   ]
  },
  {
   "cell_type": "code",
   "execution_count": 2,
   "metadata": {
    "collapsed": true
   },
   "outputs": [],
   "source": [
    "def mean_absolute_error(y, yp):\n",
    "    \"\"\"\n",
    "    計算 MAE\n",
    "    Args:\n",
    "        - y: 實際值\n",
    "        - yp: 預測值\n",
    "    Return:\n",
    "        - mae: MAE\n",
    "    \"\"\"\n",
    "    mae = MAE = sum(abs(y - yp)) / len(y)\n",
    "    return mae\n",
    "\n",
    "# 定義 mean_squared_error 這個函數, 計算並傳回 MSE\n",
    "def mean_squared_error(y, yp):\n",
    "    \"\"\"\n",
    "    請完成這個 Function 後往下執行\n",
    "    \"\"\"\n",
    "    mse = sum((y - yp)**2) / len(y)\n",
    "    return mse"
   ]
  },
  {
   "cell_type": "code",
   "execution_count": 3,
   "metadata": {},
   "outputs": [
    {
     "data": {
      "image/png": "[encoded data removed]",
      "text/plain": [
       "<matplotlib.figure.Figure at 0x24befc14780>"
      ]
     },
     "metadata": {},
     "output_type": "display_data"
    }
   ],
   "source": [
    "# 與範例相同, 不另外解說\n",
    "w = 3\n",
    "b = 0.5\n",
    "x_lin = np.linspace(0, 100, 101)\n",
    "y = (x_lin + np.random.randn(101) * 5) * w + b\n",
    "\n",
    "plt.plot(x_lin, y, 'b.', label = 'data points')\n",
    "plt.title(\"Assume we have data points\")\n",
    "plt.legend(loc = 2)\n",
    "plt.show()"
   ]
  },
  {
   "cell_type": "code",
   "execution_count": 4,
   "metadata": {},
   "outputs": [
    {
     "data": {
      "image/png": "[encoded data removed]",
      "text/plain": [
       "<matplotlib.figure.Figure at 0x24bf280a588>"
      ]
     },
     "metadata": {},
     "output_type": "display_data"
    }
   ],
   "source": [
    "# 與範例相同, 不另外解說\n",
    "y_hat = x_lin * w + b\n",
    "plt.plot(x_lin, y, 'b.', label = 'data')\n",
    "plt.plot(x_lin, y_hat, 'r-', label = 'prediction')\n",
    "plt.title(\"Assume we have data points (And the prediction)\")\n",
    "plt.legend(loc = 2)\n",
    "plt.show()"
   ]
  },
  {
   "cell_type": "code",
   "execution_count": 5,
   "metadata": {},
   "outputs": [
    {
     "name": "stdout",
     "output_type": "stream",
     "text": [
      "The Mean squared error is 169.911\n",
      "The Mean absolute error is 10.049\n"
     ]
    }
   ],
   "source": [
    "# 執行 Function, 確認有沒有正常執行\n",
    "MSE = mean_squared_error(y, y_hat)\n",
    "MAE = mean_absolute_error(y, y_hat)\n",
    "print(\"The Mean squared error is %.3f\" % (MSE))\n",
    "print(\"The Mean absolute error is %.3f\" % (MAE))"
   ]
  },
  {
   "cell_type": "markdown",
   "metadata": {},
   "source": [
    "# [作業2]\n",
    "\n",
    "請上 Kaggle, 在 Competitions 或 Dataset 中找一組競賽或資料並寫下：\n",
    "\n",
    "1. 你選的這組資料為何重要\n",
    "\n",
    "【答】Diabetic Retinopathy Detection (https://www.kaggle.com/c/diabetic-retinopathy-detection/data)\n",
    "由於智慧醫療已蓬勃發展，能夠減少醫療成本問題會是人工智慧應用的一大趨勢。糖尿病是全球患病死亡率前高的慢性疾病，由於本人碩士有研究糖尿病訊號分析處理，知道糖尿病嚴重會引發多種糖尿病併發症，用PPG或ECG訊號分析就可以將糖尿病與健康族群區分開來，但細分初期糖尿病與嚴重衍伸成罹患其他糖尿病併發症的族群，將糖尿病族群中更細的分類將會是一大困難。而視網膜病變就是糖尿病併發症其中之一而已，視網膜病變又分為輕度、中度、重度與增殖性四種嚴重程度，若晚於治療嚴重可能導致失明，也是我選擇這資料的其中原因之一，當然也有更多醫療方面的數據可以選擇。\n",
    "    \n",
    "2. 資料從何而來 (tips: 譬如提供者是誰、以什麼方式蒐集)\n",
    "\n",
    "【答】視網膜圖像從EyePACS提供 (https://www.eyepacs.com/)，Jorge Cuadros和Wyatt Tellis與加州醫療保健基金會合作，建立一個視網膜病變的平台，由於由於他們的努力目前在全球已有600多個組織都使用EyePACS，資料已收集的非常齊全。影像的收集方式是以眼底鏡來獲取視網膜的圖像。\n",
    "\n",
    "3. 蒐集而來的資料型態為何\n",
    "\n",
    "【答】蒐集的資料皆為灰階或彩色圖像。\n",
    "\n",
    "4. 這組資料想解決的問題如何評估\n",
    "\n",
    "【答】現在深度學習神經網路的興起，對於已知標籤的圖像分類使用卷積神經網路(Convolutional Neural Network)模型是最佳的選擇，因CNN的權重共享機制可自動提取圖像特徵，將局部抓取視網膜病變的病兆，例如：黃斑部病變、水腫、網膜出血、新生血管等。由於這研究可能受限於每台測量儀器問題，例：圖像的解析度會影響圖像分類的結果(資料乾淨程度)。另外，資料量的若過少也是做AI(監督式學習)的一大困難，因此有人利用前處理：水平與垂直翻轉、各角度旋轉、對比度、亮度或飽和度等方式增加圖像資料量，本碩士時研究曾使用entropy增強局部病兆特徵與RGB作多通道CNN模型預測，結果發現比原始圖像作預測還高。或許有更多更好的前處理方式來增加資料量或是凸顯影像中的病兆，或改良深度學習的模型使預測能力大幅提升。\n",
    "\n",
    "\n",
    "# [作業3]\n",
    "\n",
    "想像你經營一個自由載客車隊，你希望能透過數據分析以提升業績，請你思考並描述你如何規劃整體的分析/解決方案：\n",
    "\n",
    "1. 核心問題為何 (tips：如何定義 「提升業績 & 你的假設」)\n",
    "\n",
    "【答】以乘客角度考量：經營網路平台可讓乘客者不管位於在哪都容易招的到車，並可即時得知要來載客德車目前已到哪裡讓乘客已知時間的拿捏，例：怕未即使趕到會議可臨時通知。上車前就可以得知從起始到目的地之價錢，或許可能太遠太高價可決定改其他大眾交通方式。\n",
    "\n",
    "以載客車隊角度考量：對於即時交通的資料獲取非常重要，針對上下班時刻或是假日擁擠人潮區域作行車的判斷，減少載客期的時間。載客車隊彼此間的聯絡也極為重要，平均式分散或許是一種考量，因對於大都會人潮多的地區，例如車站、景點等地方，常常有太多載客車隊停留。而荒涼鄉下地方反而一台車都要招很久。\n",
    "\n",
    "#若要以載客安全性、車隊駕駛的素質與乘客素質作預測分析，也是一種預防危險來稍微提高業績的一些小方法\n",
    "\n",
    "2. 資料從何而來 (tips：哪些資料可能會對你想問的問題產生影響 & 資料如何蒐集)\n",
    "\n",
    "【答】可能透過GPS來獲得乘客與載客車隊的位置，也透過網路平台讓乘客得知到目的地的價位為多少，而即時交通資料可透過公路總局或交通廣播來收集判斷，車載GPS導航。\n",
    "\n",
    "3. 蒐集而來的資料型態為何\n",
    "\n",
    "【答】GPS衛星即時動態影像(時間性：三維度的資料)、起始與目的地的距離量測資料(預測可能的價位：一維度的資料)\n",
    "\n",
    "4. 你要回答的問題，其如何評估 (tips：你的假設如何驗證)\n",
    "\n",
    "【答】以過去的資料來作監督式學習，以訓練集來作訓練，以測試集來評估預測的結果，驗證這方案是否可行。"
   ]
  }
 ],
 "metadata": {
  "anaconda-cloud": {},
  "kernelspec": {
   "display_name": "Python 3",
   "language": "python",
   "name": "python3"
  },
  "language_info": {
   "codemirror_mode": {
    "name": "ipython",
    "version": 3
   },
   "file_extension": ".py",
   "mimetype": "text/x-python",
   "name": "python",
   "nbconvert_exporter": "python",
   "pygments_lexer": "ipython3",
   "version": "3.5.4"
  }
 },
 "nbformat": 4,
 "nbformat_minor": 1
}

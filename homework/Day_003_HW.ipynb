{
 "cells": [
  {
   "cell_type": "markdown",
   "metadata": {},
   "source": [
    "## [作業目標]\n",
    "持續接觸有關機器學習的相關專案與最新技術"
   ]
  },
  {
   "cell_type": "markdown",
   "metadata": {},
   "source": [
    "## [作業重點]\n",
    "透過觀察頂尖公司的機器學習文章，來了解各公司是怎麼應用機器學習在實際的專案上"
   ]
  },
  {
   "cell_type": "markdown",
   "metadata": {},
   "source": [
    "## [作業]\n",
    "今天的作業希望大家能夠看看全球機器學習巨頭們在做的機器學習專案。以 google 為例，下圖是 Google 內部專案使用機器學習的數量，隨著時間進展，現在早已超過 2000 個專案在使用機器學習。"
   ]
  },
  {
   "cell_type": "markdown",
   "metadata": {},
   "source": [
    "![image](https://cdn-images-1.medium.com/max/800/1*U_L8qI8RmYS-MOBrYvXhSA.png)"
   ]
  },
  {
   "cell_type": "markdown",
   "metadata": {},
   "source": [
    "底下幫同學整理幾間知名企業的 blog 或機器學習網站 (自行搜尋也可)，這些網站都會整理最新的機器學習專案或者是技術文章，請挑選一篇文章閱讀並試著回答\n",
    "1. 專案的目標？ (要解決什麼問題）\n",
    "2. 使用的技術是？ (只需知道名稱即可，例如：使用 CNN 卷積神經網路做影像分類)\n",
    "3. 資料來源？ "
   ]
  },
  {
   "cell_type": "markdown",
   "metadata": {},
   "source": [
    "- [Google AI blog](https://ai.googleblog.com/)\n",
    "- [Facebook Research blog](https://research.fb.com/blog/)\n",
    "- [Apple machine learning journal](https://machinelearning.apple.com/)\n",
    "- [機器之心](https://www.jiqizhixin.com/)\n",
    "- [雷鋒網](http://www.leiphone.com/category/ai)"
   ]
  },
  {
   "cell_type": "markdown",
   "metadata": {
    "collapsed": true
   },
   "source": [
    "一. 專案的目標？\n",
    "\n",
    "【答】利用無監督式學習的資料增強半監督學習(Advancing Semi-supervised Learning with Unsupervised Data Augmentation)[1]\n",
    "\n",
    "由於無監督式學習是不需要標籤資料，但也因此模型效能通常低於監督式學習；在監督式學習通常使用釋義句子或旋轉圖像等方法，增加標記的資料量，使監督式學習模型效能提升。而在半監督式學習是介於監督式與無監督式學習，通常使用半監督式學習的人是因為標記的資料數量太少，因此使用無監督式增加資料量，再以監督式學習作預測分析。因此，他們認為無監督式資料(無標籤)需要更多資料增強的方法，這樣能夠使半監督式學習效能進逼於監督式學習。\n",
    "\n",
    "\n",
    "二. 使用的技術是？ \n",
    "\n",
    "【答】本篇技術主軸是運用於前處理，使用的技術名稱是Unsupervised Data Augmentation(UDA)[2]，另外我找到有篇論文技術也相似於這篇，使用的技術名稱是MixMatch[3]。兩篇文章都強調數據增強技術能大幅提高半監督學習的預測能力，且皆為2019年的文章，兩種技術對於半監督式學習的擴展算蠻有前瞻性。下圖為在使用相同模型下，UDA與其他方法效能的比較。\n",
    "\n",
    "![image](https://1.bp.blogspot.com/-qE4UtNQpCBM/XT9wGXHaQYI/AAAAAAAAEXc/gebTu9UUzgonpeNt1dXuATMavMhJEyRSACLcBGAs/s640/Screenshot%2B2019-07-29%2Bat%2B3.15.04%2BPM.png)\n",
    "\n",
    "\n",
    "三. 資料來源？\n",
    "\n",
    "[1]Qizhe Xie, and Thang Luong, \"Advancing Semi-supervised Learning with Unsupervised Data Augmentation,\" Google AI blog, Wednesday, July 10, 2019.\n",
    "https://ai.googleblog.com/2019/07/advancing-semi-supervised-learning-with.html\n",
    "\n",
    "[2]Qizhe Xie, Zihang Dai, Eduard Hovy, Minh-Thang Luong, and Quoc V Le, \"Unsupervised Data Augmentation for Consistency Training,\" arXiv preprint arXiv:1904.12848, 2019.\n",
    "https://arxiv.org/abs/1904.12848\n",
    "\n",
    "[3]David Berthelot, Nicholas Carlini, Ian Goodfellow, Nicolas Papernot, Avital Oliver, and Colin Raffel,\"Mixmatch: A holistic approach to semi-supervised learning,\" arXiv:1905.02249 [cs.LG], 2019.\n",
    "https://arxiv.org/abs/1905.02249\n",
    "\n",
    "\n",
    "＊若有理解錯誤或想要彼此討論的話，可以mail跟我聯絡(j82887@gmail.com)"
   ]
  }
 ],
 "metadata": {
  "kernelspec": {
   "display_name": "Python 3",
   "language": "python",
   "name": "python3"
  },
  "language_info": {
   "codemirror_mode": {
    "name": "ipython",
    "version": 3
   },
   "file_extension": ".py",
   "mimetype": "text/x-python",
   "name": "python",
   "nbconvert_exporter": "python",
   "pygments_lexer": "ipython3",
   "version": "3.6.2"
  }
 },
 "nbformat": 4,
 "nbformat_minor": 2
}
